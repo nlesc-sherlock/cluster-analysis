{
 "cells": [
  {
   "cell_type": "markdown",
   "metadata": {},
   "source": [
    "# Load Library"
   ]
  },
  {
   "cell_type": "code",
   "execution_count": 6,
   "metadata": {
    "collapsed": true
   },
   "outputs": [],
   "source": [
    "library(seewave)"
   ]
  },
  {
   "cell_type": "code",
   "execution_count": 8,
   "metadata": {
    "collapsed": false
   },
   "outputs": [],
   "source": [
    "library(quantmod)"
   ]
  },
  {
   "cell_type": "markdown",
   "metadata": {},
   "source": [
    "#Read in raw data files for 2 different cameras"
   ]
  },
  {
   "cell_type": "code",
   "execution_count": 9,
   "metadata": {
    "collapsed": true
   },
   "outputs": [],
   "source": [
    "file1 <-\"/home/anandgavai/Sherlock3/cluster-analysis/analysis/noise_data/Agfa_Sensor505-x_0_1890.dat\"\n",
    "\n",
    "file2 <-\"/home/anandgavai/Sherlock3/cluster-analysis/analysis/noise_data/Agfa_Sensor505-x_0_1891.dat\"\n",
    "\n",
    "file3 <- \"/home/anandgavai/Sherlock3/cluster-analysis/analysis/noise_data/Canon_Ixus55_0_2626.dat\"\n",
    "\n",
    "file4 <- \"/home/anandgavai/Sherlock3/cluster-analysis/analysis/noise_data/Canon_Ixus55_0_2625.dat\""
   ]
  },
  {
   "cell_type": "code",
   "execution_count": 10,
   "metadata": {
    "collapsed": true
   },
   "outputs": [],
   "source": [
    "### Individual file exploration\n",
    "con1 <- file(file1, \"rb\")\n",
    "dim1 <- readBin(con1, \"integer\",20155392)\n",
    "close(con1)\n",
    "\n",
    "\n",
    "### Individual file exploration\n",
    "con2 <- file(file2, \"rb\")\n",
    "dim2 <- readBin(con2, \"integer\",20155392)\n",
    "close(con2)\n",
    "\n",
    "\n",
    "### Individual file exploration\n",
    "con3 <- file(file3, \"rb\")\n",
    "dim3 <- readBin(con3, \"integer\",20155392)\n",
    "close(con3)\n",
    "\n",
    "\n",
    "\n",
    "### Individual file exploration\n",
    "con4 <- file(file4, \"rb\")\n",
    "dim4 <- readBin(con4, \"integer\",20155392)\n",
    "close(con4)\n"
   ]
  },
  {
   "cell_type": "markdown",
   "metadata": {},
   "source": [
    "#Correlation (Pearson's) for raw vectors\n"
   ]
  },
  {
   "cell_type": "code",
   "execution_count": 11,
   "metadata": {
    "collapsed": false
   },
   "outputs": [
    {
     "data": {
      "text/html": [
       "-6.45532698034765e-06"
      ],
      "text/latex": [
       "-6.45532698034765e-06"
      ],
      "text/markdown": [
       "-6.45532698034765e-06"
      ],
      "text/plain": [
       "[1] -6.455327e-06"
      ]
     },
     "execution_count": 11,
     "metadata": {},
     "output_type": "execute_result"
    }
   ],
   "source": [
    "cor(dim1,dim2,method=\"pearson\")"
   ]
  },
  {
   "cell_type": "markdown",
   "metadata": {},
   "source": [
    "####Fourier transformation of raw signal"
   ]
  },
  {
   "cell_type": "code",
   "execution_count": 12,
   "metadata": {
    "collapsed": false
   },
   "outputs": [
    {
     "name": "stderr",
     "output_type": "stream",
     "text": [
      "Warning message:\n",
      "In eval(expr, envir, enclos): imaginary parts discarded in coercionWarning message:\n",
      "In eval(expr, envir, enclos): imaginary parts discarded in coercion"
     ]
    }
   ],
   "source": [
    "fdim1 <- as.numeric(fft(dim1))\n",
    "fdim2 <- as.numeric(fft(dim2))"
   ]
  },
  {
   "cell_type": "code",
   "execution_count": 13,
   "metadata": {
    "collapsed": false
   },
   "outputs": [
    {
     "data": {
      "text/html": [
       "0.000308343464638779"
      ],
      "text/latex": [
       "0.000308343464638779"
      ],
      "text/markdown": [
       "0.000308343464638779"
      ],
      "text/plain": [
       "[1] 0.0003083435"
      ]
     },
     "execution_count": 13,
     "metadata": {},
     "output_type": "execute_result"
    }
   ],
   "source": [
    "cor(fdim1,fdim2)\n"
   ]
  },
  {
   "cell_type": "code",
   "execution_count": null,
   "metadata": {
    "collapsed": true
   },
   "outputs": [],
   "source": []
  }
 ],
 "metadata": {
  "kernelspec": {
   "display_name": "R",
   "language": "R",
   "name": "ir"
  },
  "language_info": {
   "codemirror_mode": "r",
   "file_extension": ".r",
   "mimetype": "text/x-r-source",
   "name": "R",
   "pygments_lexer": "r",
   "version": "3.2.2"
  }
 },
 "nbformat": 4,
 "nbformat_minor": 0
}
