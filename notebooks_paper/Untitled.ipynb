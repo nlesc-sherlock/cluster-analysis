{
 "cells": [
  {
   "cell_type": "code",
   "execution_count": 56,
   "metadata": {
    "collapsed": true
   },
   "outputs": [],
   "source": [
    "%matplotlib inline"
   ]
  },
  {
   "cell_type": "markdown",
   "metadata": {},
   "source": [
    "\n",
    "# Demo of DBSCAN clustering algorithm\n",
    "\n",
    "\n",
    "Finds core samples of high density and expands clusters from them.\n",
    "\n"
   ]
  },
  {
   "cell_type": "code",
   "execution_count": 1,
   "metadata": {
    "collapsed": false
   },
   "outputs": [
    {
     "name": "stdout",
     "output_type": "stream",
     "text": [
      "Automatically created module for IPython interactive environment\n"
     ]
    }
   ],
   "source": [
    "print(__doc__)\n",
    "\n",
    "import numpy as np\n",
    "\n",
    "from sklearn.cluster import DBSCAN\n",
    "from sklearn import metrics\n",
    "from sklearn.datasets.samples_generator import make_blobs\n",
    "from sklearn.preprocessing import StandardScaler"
   ]
  },
  {
   "cell_type": "markdown",
   "metadata": {},
   "source": [
    "Read data"
   ]
  },
  {
   "cell_type": "code",
   "execution_count": 47,
   "metadata": {
    "collapsed": false
   },
   "outputs": [
    {
     "name": "stdout",
     "output_type": "stream",
     "text": [
      "[0, 1, 1, 2, 0, 3, 3, 3, 0, 3, 4, 1, 1, 3, 3, 2, 0, 1, 0, 3, 0, 1, 4, 1, 4, 2, 3, 4, 5, 6, 3, 4, 1, 2, 2, 2, 2, 3, 3, 4, 2, 2, 2, 6, 1, 1, 3, 1, 3, 3, 2, 6, 1, 2, 4, 4, 2, 4, 6, 4, 3, 0, 4, 6, 4, 1, 4, 6, 6, 1, 2, 3, 2, 3, 3, 2, 0, 4, 1, 3, 2, 4, 3, 3, 1, 4, 2, 3, 5, 2, 1, 4, 3, 2, 2, 2, 3, 3, 3, 0, 3, 0, 0, 2, 2, 1, 3, 3, 3, 1, 0, 3, 0, 3, 0, 0, 0, 0, 0, 1, 3, 2, 4, 2, 6, 4, 4, 4, 3, 3, 4, 1, 6, 0, 1, 3, 1, 0, 2, 4, 4, 1, 0, 1, 1, 1, 2, 4, 0, 0, 0, 2, 2, 0, 4, 0, 1, 6, 4, 1, 4, 3, 0, 3, 1, 2, 2, 4, 1, 1, 3, 1, 0, 3, 0, 1, 1, 1, 0, 3, 3, 1, 0, 3, 4, 1, 3, 2, 3, 1, 1, 4, 0, 4, 3, 3, 0, 2, 3, 2, 3, 1, 3, 4, 4, 4, 6, 4, 1, 4, 4, 0, 2, 4, 4, 0, 6, 1, 6, 2, 4, 0, 3, 1, 2, 4, 2, 1, 1, 2, 0, 1, 4, 6, 2, 2, 2, 2, 4, 1, 0, 6, 4, 3, 0, 1, 4, 6, 3, 4, 1, 0, 0, 3, 0, 4, 1, 2, 2, 0, 4, 1, 4, 2, 2, 0, 3, 2, 2, 0, 1, 2, 1, 4, 3, 0, 6, 3, 1, 0, 3, 2, 0, 1, 4, 4, 4, 3, 0, 2, 2, 2, 2, 0, 3, 1, 0, 6, 1, 4, 0, 0, 0, 1, 1, 4, 2, 1, 2, 4, 2, 0, 4, 2, 6, 3, 4, 3, 1, 2, 3, 1, 1, 2, 2, 3, 0, 4, 0, 4, 1, 2, 0, 2, 3, 2, 0, 2, 4, 2, 1, 1, 1, 4, 0, 1, 0, 2, 0, 2, 1, 2, 4, 2, 0, 1, 0, 4, 1, 3, 3, 6, 3, 6, 3, 1, 2, 0, 2, 3, 4, 4, 3, 0, 2, 5, 2, 3, 2, 0, 3, 0, 4, 0, 0, 0, 0, 1, 3, 6, 3, 1, 3, 0, 3, 0, 2, 0, 4, 0, 2, 4, 4, 3, 4, 3, 1, 2, 3, 4, 6, 0, 0, 1, 1, 0, 1, 1, 0, 1, 1, 0, 1, 3, 1, 1, 1, 2, 2, 4, 0, 3, 4, 4, 3, 6, 3, 4, 0, 4, 1, 4, 0, 2, 0, 0, 3, 1, 2, 0, 1, 5, 2, 0, 4, 4, 0, 4, 0, 3, 3, 0, 1, 1, 1, 0, 3, 2, 1, 2, 1, 2, 6, 4, 4, 1, 2, 3, 0, 3, 0, 1, 2, 0, 3, 0, 3, 3, 3, 4, 3, 4, 0, 5, 2, 0, 2, 3, 3, 1, 4, 4, 2, 3, 2, 3, 2, 3, 3, 4, 3, 2, 0, 2, 4, 4, 5, 2, 6, 1, 0, 4, 0, 5, 2, 1, 2, 3, 2, 3, 4, 0, 0, 0, 1, 2, 0, 2, 4, 4, 2, 1, 4, 1, 2, 2, 3, 0, 4, 0, 4, 2, 2, 6, 2, 0, 4, 1, 0, 1, 4, 3, 3, 4, 0, 3, 3, 6, 0, 1, 3, 3, 4, 1, 3, 3, 0, 0, 1, 2, 2, 2, 0, 6, 0, 2, 0, 3, 4, 3, 1, 0, 2, 2, 2, 1, 3, 6, 2, 2, 0, 2, 1, 1, 4, 4, 1, 4, 4, 4, 4, 4, 3, 1, 1, 2, 1, 1, 0, 1, 3, 3, 2, 1, 3, 6, 5, 1, 0, 0, 1, 1, 3, 1, 3, 3, 0, 4, 0, 6, 4, 3, 4, 0, 2, 4, 3, 1, 4, 3, 0, 4, 2, 4, 2, 3, 1, 1, 6, 2, 4, 2, 4, 1, 2, 1, 2, 2, 3, 3, 2, 3, 4, 4, 6, 1, 2, 2, 2, 0, 1, 4, 3, 4, 2, 3, 6, 2, 2, 3, 1, 4, 1, 4, 3, 6, 4, 0, 4, 2, 3, 1, 2, 4, 1, 0, 2, 0, 0, 1, 2, 2, 0, 2, 3, 0, 3, 1, 2, 3, 4, 1, 3, 3, 0, 2, 2, 4, 3, 2, 6, 6, 3, 2, 3, 4, 3, 3, 1, 3, 2, 1, 0, 3, 4, 0, 6, 3, 1, 2, 2, 2, 4, 0, 4, 6, 5, 4, 2, 1, 2, 0, 2, 4, 3, 1, 1, 4, 2, 1, 5, 3, 3, 2, 3, 1, 3, 4, 3, 3, 0, 0, 4, 2, 1, 1, 4, 2, 2, 3, 0, 1, 1, 0, 2, 5, 0, 5, 3, 3, 2, 2, 0, 4, 0, 3, 1, 4, 1, 2, 3, 0, 4, 1, 2, 3, 0, 0, 0, 0, 6, 4, 4, 1, 1, 0, 3, 4, 3, 1, 1, 1, 3, 2, 1, 2, 6, 2, 2, 4, 3, 4, 4, 1, 0, 4, 4, 0, 0, 4, 3, 4, 4, 0, 4, 3, 0, 0, 4, 2, 2, 6, 1, 2, 3, 4, 2, 3, 0, 2, 1, 4, 1, 4, 2, 0, 3, 2, 3, 2, 4, 1, 1, 3, 1, 3, 0, 1, 0, 3, 4, 2, 4, 3, 1, 3, 0, 4, 0, 0, 0, 2, 2, 1, 1, 4, 3, 0, 2, 4, 4, 2, 0, 1, 4, 2, 4, 4, 0, 3, 5, 4, 0, 0, 3, 0, 1, 3, 4, 3, 3, 3, 6, 1, 2, 4, 1, 4, 5, 0, 3, 0, 1, 4, 1, 6, 4, 4, 0, 0, 6, 3, 6, 0, 3, 3, 0, 1, 4, 2, 0, 2, 0, 4, 0, 2, 3, 4, 0, 2, 1, 4, 2, 0, 1, 0, 1, 4, 0, 2, 2, 3, 0, 0, 3, 4, 6, 4, 6, 2, 6, 0, 1, 0, 1, 0, 2, 0, 6, 1, 0, 2, 6, 0, 4, 2, 4, 1, 1, 6, 2, 4, 2, 1, 3, 0, 1, 6, 4, 2, 4, 3, 4, 2, 1, 3, 2, 2, 4, 6, 6, 1, 3, 2, 0, 1, 3, 3, 3, 6, 4, 1, 0, 3, 6, 3, 1, 4, 6, 0, 3, 1, 3, 0, 3, 5, 3, 6, 3, 4, 4, 1, 1, 4, 0, 1, 0, 0, 1, 4, 1, 2, 4, 4, 1, 2, 2, 3, 4, 6, 3, 4, 3, 0, 3, 4, 2, 4, 1, 2, 1, 4, 4, 4, 3]\n"
     ]
    }
   ],
   "source": [
    "import json\n",
    "import os\n",
    "from pprint import pprint\n",
    "import pandas\n",
    "jsonpath = \"C:/Users/sonja/Documents/GitHub/cluster-analysis/data/embedded/json\"\n",
    "file = os.path.join(jsonpath, \"praktica_pce.json\")\n",
    "\n",
    "with open(file) as data_file:    \n",
    "    data = json.load(data_file)\n",
    "\n",
    "#pprint(data)\n",
    "X = []\n",
    "labels_true= []\n",
    "\n",
    "#print(data['Agfa_DC-504_0_149.JPG']['Coordinates'])\n",
    "for key in data.keys():\n",
    "    if (key != \"NamesOfProperties\"):\n",
    "        d= data[key]['Coordinates']   \n",
    "        X.append(d)\n",
    "        p = data[key]['Properties']\n",
    "        labels_true.append(p[1])\n",
    "    \n",
    "\n",
    "X = StandardScaler().fit_transform(X)\n",
    "#print(X)\n",
    "#print(labels_true)      \n",
    "\n",
    "mydict={}\n",
    "i = 0\n",
    "for item in labels_true:\n",
    "    if(i>0 and item in mydict):\n",
    "        continue\n",
    "    else:    \n",
    "       i = i+1\n",
    "       mydict[item] = i\n",
    "\n",
    "k=[]\n",
    "for item in labels_true:\n",
    "    k.append(mydict[item]-1)\n",
    " \n",
    "labels_true = k\n",
    "#print(labels_true) "
   ]
  },
  {
   "cell_type": "markdown",
   "metadata": {},
   "source": [
    "Compute DBSCAN"
   ]
  },
  {
   "cell_type": "code",
   "execution_count": 62,
   "metadata": {
    "collapsed": false
   },
   "outputs": [
    {
     "name": "stdout",
     "output_type": "stream",
     "text": [
      "Estimated number of clusters: 6\n",
      "Homogeneity: 0.275\n",
      "Completeness: 0.491\n",
      "V-measure: 0.352\n",
      "Adjusted Rand Index: 0.081\n",
      "Adjusted Mutual Information: 0.267\n",
      "Silhouette Coefficient: -0.509\n"
     ]
    }
   ],
   "source": [
    "db = DBSCAN(eps=0.002, min_samples=10).fit(X)\n",
    "core_samples_mask = np.zeros_like(db.labels_, dtype=bool)\n",
    "core_samples_mask[db.core_sample_indices_] = True\n",
    "labels = db.labels_\n",
    "\n",
    "# Number of clusters in labels, ignoring noise if present.\n",
    "n_clusters_ = len(set(labels)) - (1 if -1 in labels else 0)\n",
    "\n",
    "print('Estimated number of clusters: %d' % n_clusters_)\n",
    "print(\"Homogeneity: %0.3f\" % metrics.homogeneity_score(labels_true, labels))\n",
    "print(\"Completeness: %0.3f\" % metrics.completeness_score(labels_true, labels))\n",
    "print(\"V-measure: %0.3f\" % metrics.v_measure_score(labels_true, labels))\n",
    "print(\"Adjusted Rand Index: %0.3f\"\n",
    "      % metrics.adjusted_rand_score(labels_true, labels))\n",
    "print(\"Adjusted Mutual Information: %0.3f\"\n",
    "      % metrics.adjusted_mutual_info_score(labels_true, labels))\n",
    "print(\"Silhouette Coefficient: %0.3f\"\n",
    "      % metrics.silhouette_score(X, labels))"
   ]
  },
  {
   "cell_type": "markdown",
   "metadata": {},
   "source": [
    "Plot results"
   ]
  },
  {
   "cell_type": "code",
   "execution_count": 63,
   "metadata": {
    "collapsed": false
   },
   "outputs": [
    {
     "name": "stderr",
     "output_type": "stream",
     "text": [
      "C:\\Users\\sonja\\Anaconda3\\lib\\site-packages\\matplotlib\\lines.py:1145: FutureWarning: comparison to `None` will result in an elementwise object comparison in the future.\n",
      "  if self._markerfacecolor != fc:\n"
     ]
    },
    {
     "data": {
      "image/png": "[encoded data removed]",
      "text/plain": [
       "<matplotlib.figure.Figure at 0x250d8a057b8>"
      ]
     },
     "metadata": {},
     "output_type": "display_data"
    }
   ],
   "source": [
    "import matplotlib.pyplot as plt\n",
    "\n",
    "# Black removed and is used for noise instead.\n",
    "unique_labels = set(labels)\n",
    "colors = plt.cm.Spectral(np.linspace(0, 1, len(unique_labels)))\n",
    "for k, col in zip(unique_labels, colors):\n",
    "    if k == -1:\n",
    "        # Black used for noise.\n",
    "        col = 'k'\n",
    "\n",
    "    class_member_mask = (labels == k)\n",
    "\n",
    "    xy = X[class_member_mask & core_samples_mask]\n",
    "    plt.plot(xy[:, 0], xy[:, 1], 'o', markerfacecolor=col,\n",
    "             markeredgecolor='k', markersize=14)\n",
    "\n",
    "    xy = X[class_member_mask & ~core_samples_mask]\n",
    "    plt.plot(xy[:, 0], xy[:, 1], 'o', markerfacecolor=col,\n",
    "             markeredgecolor='k', markersize=6)\n",
    "\n",
    "plt.title('Estimated number of clusters: %d' % n_clusters_)\n",
    "plt.show()"
   ]
  },
  {
   "cell_type": "code",
   "execution_count": null,
   "metadata": {
    "collapsed": true
   },
   "outputs": [],
   "source": []
  }
 ],
 "metadata": {
  "anaconda-cloud": {},
  "kernelspec": {
   "display_name": "Python [default]",
   "language": "python",
   "name": "python3"
  },
  "language_info": {
   "codemirror_mode": {
    "name": "ipython",
    "version": 3
   },
   "file_extension": ".py",
   "mimetype": "text/x-python",
   "name": "python",
   "nbconvert_exporter": "python",
   "pygments_lexer": "ipython3",
   "version": "3.5.2"
  }
 },
 "nbformat": 4,
 "nbformat_minor": 1
}
